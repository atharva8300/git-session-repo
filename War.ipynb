{
 "cells": [
  {
   "cell_type": "code",
   "execution_count": 7,
   "metadata": {},
   "outputs": [],
   "source": [
    "import random\n",
    "values = {'Two':2, 'Three':3, 'Four':4, 'Five':5, 'Six':6, 'Seven':7, 'Eight':8, \n",
    "            'Nine':9, 'Ten':10, 'Jack':11, 'Queen':12, 'King':13, 'Ace':14}\n",
    "suits = ('Hearts', 'Diamonds', 'Spades', 'Clubs')\n",
    "ranks = ('Two', 'Three', 'Four', 'Five', 'Six', 'Seven', 'Eight', 'Nine', 'Ten', 'Jack', 'Queen', 'King', 'Ace')\n",
    "\n"
   ]
  },
  {
   "cell_type": "code",
   "execution_count": 8,
   "metadata": {},
   "outputs": [],
   "source": [
    "class Card():\n",
    "    def __init__(self,suit,rank):\n",
    "        self.rank = rank\n",
    "        self.suit = suit\n",
    "        self.value = values[self.rank]\n",
    "    def __str__(self):\n",
    "        return f\"{self.rank} of {self.suit}\"\n",
    "        "
   ]
  },
  {
   "cell_type": "code",
   "execution_count": 9,
   "metadata": {},
   "outputs": [],
   "source": [
    "class Deck():\n",
    "    def __init__(self):\n",
    "        self.all_cards=[]        \n",
    "        for x in suits:\n",
    "            for y in ranks:\n",
    "                self.all_cards.append(Card(x,y))\n",
    "    \n",
    "    def shuffle(self):\n",
    "        random.shuffle(self.all_cards)\n",
    "    \n",
    "    def deal_one(self):\n",
    "        return self.all_cards.pop()"
   ]
  },
  {
   "cell_type": "code",
   "execution_count": 19,
   "metadata": {},
   "outputs": [],
   "source": [
    "class Player():\n",
    "    def __init__(self,name):\n",
    "        self.name = name\n",
    "        self.all_cards = []\n",
    "    \n",
    "    def remove_one(self):\n",
    "        return self.all_cards.pop(0)\n",
    "    \n",
    "    def add_cards(self,new_cards):\n",
    "        if type(new_cards) == type([]):\n",
    "            self.all_cards = self.all_cards + new_cards\n",
    "        else:\n",
    "            self.all_cards.append(new_cards)\n",
    "    \n",
    "    def __str__(self):\n",
    "        return f\"player {self.name} has {len(self.all_cards)} card(s)\"\n",
    "        "
   ]
  },
  {
   "cell_type": "code",
   "execution_count": 20,
   "metadata": {},
   "outputs": [],
   "source": [
    "mydeck = Deck()"
   ]
  },
  {
   "cell_type": "code",
   "execution_count": 21,
   "metadata": {},
   "outputs": [],
   "source": [
    "mydeck.shuffle()"
   ]
  },
  {
   "cell_type": "code",
   "execution_count": 22,
   "metadata": {},
   "outputs": [],
   "source": [
    "mycard = mydeck.deal_one()"
   ]
  },
  {
   "cell_type": "code",
   "execution_count": 23,
   "metadata": {},
   "outputs": [
    {
     "name": "stdout",
     "output_type": "stream",
     "text": [
      "Four of Hearts\n"
     ]
    }
   ],
   "source": [
    "print(mycard)"
   ]
  },
  {
   "cell_type": "code",
   "execution_count": 24,
   "metadata": {},
   "outputs": [],
   "source": [
    "buddy = Player(\"buddy\")"
   ]
  },
  {
   "cell_type": "code",
   "execution_count": 25,
   "metadata": {},
   "outputs": [
    {
     "name": "stdout",
     "output_type": "stream",
     "text": [
      "player buddy has 0 card(s)\n"
     ]
    }
   ],
   "source": [
    "print(buddy)"
   ]
  },
  {
   "cell_type": "code",
   "execution_count": 26,
   "metadata": {},
   "outputs": [],
   "source": [
    "buddy.add_cards(mycard)"
   ]
  },
  {
   "cell_type": "code",
   "execution_count": 27,
   "metadata": {},
   "outputs": [
    {
     "name": "stdout",
     "output_type": "stream",
     "text": [
      "player buddy has 1 card(s)\n"
     ]
    }
   ],
   "source": [
    "print(buddy)"
   ]
  },
  {
   "cell_type": "code",
   "execution_count": 28,
   "metadata": {},
   "outputs": [
    {
     "name": "stdout",
     "output_type": "stream",
     "text": [
      "Four of Hearts\n"
     ]
    }
   ],
   "source": [
    "print(buddy.all_cards[0])"
   ]
  },
  {
   "cell_type": "code",
   "execution_count": 29,
   "metadata": {},
   "outputs": [],
   "source": [
    "buddy.add_cards([mycard,mycard,mycard])"
   ]
  },
  {
   "cell_type": "code",
   "execution_count": 30,
   "metadata": {},
   "outputs": [
    {
     "name": "stdout",
     "output_type": "stream",
     "text": [
      "player buddy has 4 card(s)\n"
     ]
    }
   ],
   "source": [
    "print(buddy)"
   ]
  },
  {
   "cell_type": "code",
   "execution_count": 31,
   "metadata": {},
   "outputs": [
    {
     "name": "stdout",
     "output_type": "stream",
     "text": [
      "Four of Hearts\n",
      "Four of Hearts\n",
      "Four of Hearts\n",
      "Four of Hearts\n"
     ]
    }
   ],
   "source": [
    "for x in buddy.all_cards:\n",
    "    print(x)"
   ]
  },
  {
   "cell_type": "code",
   "execution_count": 33,
   "metadata": {},
   "outputs": [],
   "source": [
    "x = buddy.remove_one()"
   ]
  },
  {
   "cell_type": "code",
   "execution_count": 34,
   "metadata": {},
   "outputs": [
    {
     "name": "stdout",
     "output_type": "stream",
     "text": [
      "Four of Hearts\n"
     ]
    }
   ],
   "source": [
    "print(x)"
   ]
  },
  {
   "cell_type": "code",
   "execution_count": null,
   "metadata": {},
   "outputs": [],
   "source": []
  },
  {
   "cell_type": "code",
   "execution_count": 3,
   "metadata": {},
   "outputs": [],
   "source": [
    "new_player = Player(\"buddy\")"
   ]
  },
  {
   "cell_type": "code",
   "execution_count": 4,
   "metadata": {},
   "outputs": [
    {
     "name": "stdout",
     "output_type": "stream",
     "text": [
      "player buddy has 0 cards\n"
     ]
    }
   ],
   "source": [
    "print(new_player)"
   ]
  },
  {
   "cell_type": "code",
   "execution_count": null,
   "metadata": {},
   "outputs": [],
   "source": []
  },
  {
   "cell_type": "code",
   "execution_count": 62,
   "metadata": {},
   "outputs": [],
   "source": [
    "new_deck = Deck()"
   ]
  },
  {
   "cell_type": "code",
   "execution_count": 63,
   "metadata": {},
   "outputs": [
    {
     "data": {
      "text/plain": [
       "[<__main__.Card at 0x21155697f88>,\n",
       " <__main__.Card at 0x21155697e88>,\n",
       " <__main__.Card at 0x21155697b48>,\n",
       " <__main__.Card at 0x21155697148>,\n",
       " <__main__.Card at 0x21155697348>,\n",
       " <__main__.Card at 0x21155697988>,\n",
       " <__main__.Card at 0x21155697108>,\n",
       " <__main__.Card at 0x211556978c8>,\n",
       " <__main__.Card at 0x211556971c8>,\n",
       " <__main__.Card at 0x211556975c8>,\n",
       " <__main__.Card at 0x21155697408>,\n",
       " <__main__.Card at 0x21154b2dd48>,\n",
       " <__main__.Card at 0x21154b2d988>,\n",
       " <__main__.Card at 0x21154b2d0c8>,\n",
       " <__main__.Card at 0x21154b6d908>,\n",
       " <__main__.Card at 0x21154b6d608>,\n",
       " <__main__.Card at 0x21154b6d548>,\n",
       " <__main__.Card at 0x21154b6d6c8>,\n",
       " <__main__.Card at 0x21154b6dac8>,\n",
       " <__main__.Card at 0x21154b6d0c8>,\n",
       " <__main__.Card at 0x21154b6dc08>,\n",
       " <__main__.Card at 0x21154b69048>,\n",
       " <__main__.Card at 0x21154b69608>,\n",
       " <__main__.Card at 0x21154852bc8>,\n",
       " <__main__.Card at 0x21154852ec8>,\n",
       " <__main__.Card at 0x21154b79188>,\n",
       " <__main__.Card at 0x21154b79248>,\n",
       " <__main__.Card at 0x21154b792c8>,\n",
       " <__main__.Card at 0x21154b791c8>,\n",
       " <__main__.Card at 0x21154b79948>,\n",
       " <__main__.Card at 0x21154b79908>,\n",
       " <__main__.Card at 0x21154b79708>,\n",
       " <__main__.Card at 0x21154b79788>,\n",
       " <__main__.Card at 0x21154a99748>,\n",
       " <__main__.Card at 0x21154b80a08>,\n",
       " <__main__.Card at 0x21154b80f48>,\n",
       " <__main__.Card at 0x21154b80448>,\n",
       " <__main__.Card at 0x21154b80388>,\n",
       " <__main__.Card at 0x21154b809c8>,\n",
       " <__main__.Card at 0x21154b25c48>,\n",
       " <__main__.Card at 0x21154b25b88>,\n",
       " <__main__.Card at 0x21154b25888>,\n",
       " <__main__.Card at 0x21154b254c8>,\n",
       " <__main__.Card at 0x21154b25dc8>,\n",
       " <__main__.Card at 0x21154b25988>,\n",
       " <__main__.Card at 0x21154b25f88>,\n",
       " <__main__.Card at 0x21154b25a48>,\n",
       " <__main__.Card at 0x21154b25b08>,\n",
       " <__main__.Card at 0x21154b25088>,\n",
       " <__main__.Card at 0x21154b25348>,\n",
       " <__main__.Card at 0x21154b25288>,\n",
       " <__main__.Card at 0x21155693188>]"
      ]
     },
     "execution_count": 63,
     "metadata": {},
     "output_type": "execute_result"
    }
   ],
   "source": [
    "new_deck.all_cards"
   ]
  },
  {
   "cell_type": "code",
   "execution_count": 64,
   "metadata": {},
   "outputs": [
    {
     "name": "stdout",
     "output_type": "stream",
     "text": [
      "Two of Hearts\n"
     ]
    }
   ],
   "source": [
    "#new_deck.all_cards is a list of card objects\n",
    "print(new_deck.all_cards[0])"
   ]
  },
  {
   "cell_type": "code",
   "execution_count": 65,
   "metadata": {},
   "outputs": [
    {
     "data": {
      "text/plain": [
       "2"
      ]
     },
     "execution_count": 65,
     "metadata": {},
     "output_type": "execute_result"
    }
   ],
   "source": [
    "new_deck.all_cards[0].value"
   ]
  },
  {
   "cell_type": "code",
   "execution_count": 66,
   "metadata": {},
   "outputs": [
    {
     "data": {
      "text/plain": [
       "<__main__.Card at 0x21155693188>"
      ]
     },
     "execution_count": 66,
     "metadata": {},
     "output_type": "execute_result"
    }
   ],
   "source": [
    "new_deck.all_cards[-1]"
   ]
  },
  {
   "cell_type": "code",
   "execution_count": 67,
   "metadata": {},
   "outputs": [
    {
     "name": "stdout",
     "output_type": "stream",
     "text": [
      "Ace of Clubs\n"
     ]
    }
   ],
   "source": [
    "print(new_deck.all_cards[-1])"
   ]
  },
  {
   "cell_type": "code",
   "execution_count": 68,
   "metadata": {},
   "outputs": [
    {
     "name": "stdout",
     "output_type": "stream",
     "text": [
      "Two of Hearts\n",
      "Three of Hearts\n",
      "Four of Hearts\n",
      "Five of Hearts\n",
      "Six of Hearts\n",
      "Seven of Hearts\n",
      "Eight of Hearts\n",
      "Nine of Hearts\n",
      "Ten of Hearts\n",
      "Jack of Hearts\n",
      "Queen of Hearts\n",
      "King of Hearts\n",
      "Ace of Hearts\n",
      "Two of Diamonds\n",
      "Three of Diamonds\n",
      "Four of Diamonds\n",
      "Five of Diamonds\n",
      "Six of Diamonds\n",
      "Seven of Diamonds\n",
      "Eight of Diamonds\n",
      "Nine of Diamonds\n",
      "Ten of Diamonds\n",
      "Jack of Diamonds\n",
      "Queen of Diamonds\n",
      "King of Diamonds\n",
      "Ace of Diamonds\n",
      "Two of Spades\n",
      "Three of Spades\n",
      "Four of Spades\n",
      "Five of Spades\n",
      "Six of Spades\n",
      "Seven of Spades\n",
      "Eight of Spades\n",
      "Nine of Spades\n",
      "Ten of Spades\n",
      "Jack of Spades\n",
      "Queen of Spades\n",
      "King of Spades\n",
      "Ace of Spades\n",
      "Two of Clubs\n",
      "Three of Clubs\n",
      "Four of Clubs\n",
      "Five of Clubs\n",
      "Six of Clubs\n",
      "Seven of Clubs\n",
      "Eight of Clubs\n",
      "Nine of Clubs\n",
      "Ten of Clubs\n",
      "Jack of Clubs\n",
      "Queen of Clubs\n",
      "King of Clubs\n",
      "Ace of Clubs\n"
     ]
    }
   ],
   "source": [
    "for c in new_deck.all_cards:\n",
    "    print(c)"
   ]
  },
  {
   "cell_type": "code",
   "execution_count": 69,
   "metadata": {},
   "outputs": [],
   "source": [
    "new_deck.shuffle()"
   ]
  },
  {
   "cell_type": "code",
   "execution_count": 70,
   "metadata": {},
   "outputs": [
    {
     "name": "stdout",
     "output_type": "stream",
     "text": [
      "King of Spades\n",
      "Seven of Clubs\n",
      "Five of Clubs\n",
      "Ten of Hearts\n",
      "Ten of Diamonds\n",
      "Eight of Spades\n",
      "Nine of Hearts\n",
      "Two of Clubs\n",
      "King of Clubs\n",
      "Ace of Diamonds\n",
      "Ten of Spades\n",
      "Three of Hearts\n",
      "Six of Diamonds\n",
      "Jack of Hearts\n",
      "Jack of Spades\n",
      "King of Diamonds\n",
      "Five of Spades\n",
      "Seven of Spades\n",
      "Queen of Clubs\n",
      "Eight of Hearts\n",
      "Five of Diamonds\n",
      "Six of Spades\n",
      "Four of Spades\n",
      "Nine of Spades\n",
      "Jack of Clubs\n",
      "Three of Spades\n",
      "Ace of Hearts\n",
      "Eight of Diamonds\n",
      "Eight of Clubs\n",
      "Six of Hearts\n",
      "Queen of Diamonds\n",
      "Three of Clubs\n",
      "Four of Clubs\n",
      "Four of Diamonds\n",
      "Three of Diamonds\n",
      "Queen of Spades\n",
      "Ace of Spades\n",
      "King of Hearts\n",
      "Jack of Diamonds\n",
      "Queen of Hearts\n",
      "Six of Clubs\n",
      "Seven of Hearts\n",
      "Two of Spades\n",
      "Five of Hearts\n",
      "Four of Hearts\n",
      "Ten of Clubs\n",
      "Nine of Clubs\n",
      "Nine of Diamonds\n",
      "Seven of Diamonds\n",
      "Ace of Clubs\n",
      "Two of Hearts\n",
      "Two of Diamonds\n"
     ]
    }
   ],
   "source": [
    "for x in new_deck.all_cards:\n",
    "    print(x)"
   ]
  },
  {
   "cell_type": "code",
   "execution_count": 71,
   "metadata": {},
   "outputs": [],
   "source": [
    "x_deck = Deck()"
   ]
  },
  {
   "cell_type": "code",
   "execution_count": 72,
   "metadata": {},
   "outputs": [],
   "source": [
    "x_deck.shuffle()"
   ]
  },
  {
   "cell_type": "code",
   "execution_count": 73,
   "metadata": {},
   "outputs": [],
   "source": [
    "mycard = x_deck.deal_one()"
   ]
  },
  {
   "cell_type": "code",
   "execution_count": 74,
   "metadata": {},
   "outputs": [
    {
     "name": "stdout",
     "output_type": "stream",
     "text": [
      "Four of Spades\n"
     ]
    }
   ],
   "source": [
    "print(mycard)"
   ]
  },
  {
   "cell_type": "code",
   "execution_count": 75,
   "metadata": {},
   "outputs": [
    {
     "data": {
      "text/plain": [
       "51"
      ]
     },
     "execution_count": 75,
     "metadata": {},
     "output_type": "execute_result"
    }
   ],
   "source": [
    "len(x_deck.all_cards)"
   ]
  },
  {
   "cell_type": "code",
   "execution_count": null,
   "metadata": {},
   "outputs": [],
   "source": []
  }
 ],
 "metadata": {
  "kernelspec": {
   "display_name": "Python 3",
   "language": "python",
   "name": "python3"
  },
  "language_info": {
   "codemirror_mode": {
    "name": "ipython",
    "version": 3
   },
   "file_extension": ".py",
   "mimetype": "text/x-python",
   "name": "python",
   "nbconvert_exporter": "python",
   "pygments_lexer": "ipython3",
   "version": "3.7.4"
  }
 },
 "nbformat": 4,
 "nbformat_minor": 2
}
